{
 "cells": [
  {
   "cell_type": "code",
   "execution_count": 1,
   "metadata": {},
   "outputs": [],
   "source": [
    "import numpy as np\n",
    "import scipy.io as sio\n",
    "import pickle\n",
    "import os"
   ]
  },
  {
   "cell_type": "code",
   "execution_count": 2,
   "metadata": {},
   "outputs": [
    {
     "name": "stdout",
     "output_type": "stream",
     "text": [
      "dict_keys(['__header__', '__version__', '__globals__', 'X', 'Y'])\n",
      "T = 139\n",
      "d1 = 26\n"
     ]
    }
   ],
   "source": [
    "# Load the Schools dataset\n",
    "schools_name = \"data/school/schoolData.mat\"\n",
    "schools_dataset = sio.loadmat(schools_name)\n",
    "print(schools_dataset.keys())\n",
    "X_schools = schools_dataset['X']\n",
    "X_schools = np.squeeze(X_schools)\n",
    "Y_schools = schools_dataset['Y']\n",
    "Y_schools = np.squeeze(Y_schools)\n",
    "\n",
    "#for i in range(X_schools.shape[0]):\n",
    "#    print(i, end=' ')\n",
    "#    print(X_schools[i].shape[1])\n",
    "#task 71 becomes the test task\n",
    "\n",
    "T = X_schools.shape[0]\n",
    "d1 = X_schools[0].shape[0]\n",
    "d2 = 50\n",
    "print(\"T = {}\".format(T))\n",
    "print(\"d1 = {}\".format(d1))"
   ]
  },
  {
   "cell_type": "code",
   "execution_count": 3,
   "metadata": {},
   "outputs": [],
   "source": [
    "# prepare test task\n",
    "def transform_Y(X,d2):\n",
    "    sigma = 10\n",
    "\n",
    "    # Generate the parameters for the transform\n",
    "    sum_phi = np.zeros(d2)\n",
    "    v = np.random.uniform(0, 2 * np.pi, size=d2)\n",
    "    U = np.random.normal(0, sigma, size=(d2, X.shape[1]))\n",
    "    for i in range(X.shape[0]):\n",
    "        sum_phi += np.sqrt(2/d2) * np.cos(U @ X[i] + v)\n",
    "    avg_phi = np.divide(sum_phi, X.shape[0])\n",
    "    return avg_phi\n",
    "\n",
    "# we pick task 29 as the test task as it has enough samples to vary N2 \n",
    "task = 29\n",
    "test_task = X_schools[task]\n",
    "test_labels = Y_schools[task]\n",
    "X0 = np.transpose(test_task)\n",
    "R0 = test_labels\n",
    "Y0 = transform_Y(X0,d2)\n",
    "#normalize test task\n",
    "normx0 = np.linalg.norm(X0, axis=1).reshape(len(X0),1)\n",
    "#\n",
    "X0new = X0/normx0\n",
    "R0new = R0/normx0\n",
    "# save test task\n",
    "pickle.dump(X0new, open('./data/school/X0.pkl', \"wb\"))\n",
    "pickle.dump(Y0, open('./data/school/Y0.pkl', \"wb\"))\n",
    "pickle.dump(R0new, open('./data/school/R0.pkl', \"wb\"))\n",
    "# "
   ]
  },
  {
   "cell_type": "code",
   "execution_count": 4,
   "metadata": {},
   "outputs": [],
   "source": [
    "# prepare training dataset\n",
    "\n",
    "# select 50 tasks uniformly at random except task 29\n",
    "indices = np.random.randint(0,T-1,size=50)\n",
    "v = np.arange(139)\n",
    "v = np.delete(v,29)\n",
    "train_tasks = v[indices]\n",
    "\n",
    "Ytrain = np.zeros((50,d2))\n",
    "for i in range(50):\n",
    "    X = np.transpose(X_schools[train_tasks[i]])\n",
    "    Ytrain[i,] = transform_Y(X,d2)\n",
    "    \n",
    "#20 samples from each task in train_tasks\n",
    "Xtrain = np.zeros((50*20, d1))\n",
    "task_function = np.zeros(50*20)\n",
    "Rtrain = np.zeros((50*20,1))\n",
    "\n",
    "for i in range(50):\n",
    "    X = np.transpose(X_schools[train_tasks[i]])\n",
    "    indices = np.random.randint(0,X.shape[0],size=20)\n",
    "    Xtrain[(20*i):(20*i + 20),] = X[indices,]\n",
    "    task_function[(20*i):(20*i + 20)] = i\n",
    "    Rtrain[(20*i):(20*i + 20)] = Y_schools[train_tasks[i]][indices] \n",
    "    \n",
    "#normalize data\n",
    "normXt = np.linalg.norm(Xtrain, axis=1).reshape(len(Xtrain),1)\n",
    "Xtrain_new = Xtrain/normXt\n",
    "Rtrain_new = Rtrain/normXt\n",
    "\n",
    "# save meta-train dataset\n",
    "pickle.dump(Xtrain_new, open('./data/school/X.pkl', \"wb\"))\n",
    "pickle.dump(Ytrain, open('./data/school/Y.pkl', \"wb\"))\n",
    "pickle.dump(Rtrain_new, open('./data/school/R.pkl', \"wb\"))\n",
    "pickle.dump(task_function, open('./data/school/task_function.pkl', \"wb\"))\n",
    "\n",
    "#create an evaluation dataset\n",
    "Xtrain_eval = np.zeros((50*20, d1))\n",
    "task_function_eval = np.zeros(50*20)\n",
    "Rtrain_eval = np.zeros((50*20,1))\n",
    "\n",
    "for i in range(50):\n",
    "    X = np.transpose(X_schools[train_tasks[i]])\n",
    "    indices = np.random.randint(0,X.shape[0],size=20)\n",
    "    Xtrain_eval[(20*i):(20*i + 20),] = X[indices,]\n",
    "    task_function_eval[(20*i):(20*i + 20)] = i\n",
    "    Rtrain_eval[(20*i):(20*i + 20)] = Y_schools[train_tasks[i]][indices] \n",
    "    \n",
    "#normalize data\n",
    "normXt = np.linalg.norm(Xtrain_eval, axis=1).reshape(len(Xtrain_eval),1)\n",
    "Xtrain_new = Xtrain_eval/normXt\n",
    "Rtrain_new = Rtrain_eval/normXt\n",
    "\n",
    "# save meta-train dataset\n",
    "pickle.dump(Xtrain_new, open('./data/school/Xtrain_eval.pkl', \"wb\"))\n",
    "pickle.dump(Ytrain, open('./data/school/Ytrain_eval.pkl', \"wb\"))\n",
    "pickle.dump(Rtrain_new, open('./data/school/Rtrain_eval.pkl', \"wb\"))\n",
    "pickle.dump(task_function, open('./data/school/task_function_eval.pkl', \"wb\"))"
   ]
  },
  {
   "cell_type": "code",
   "execution_count": 5,
   "metadata": {
    "scrolled": true
   },
   "outputs": [],
   "source": [
    "#create an evaluation set for the meta-test task\n",
    "\n",
    "indices = np.random.randint(0,len(X0new),size=50)\n",
    "X0eval = X0new[indices,]\n",
    "R0eval = R0new[indices,]\n",
    "\n",
    "pickle.dump(X0eval, open('./data/school/X0eval.pkl', \"wb\"))\n",
    "pickle.dump(R0eval, open('./data/school/R0eval.pkl', \"wb\"))\n",
    "\n",
    "#generate test data for 20 different trials and different sizes\n",
    "X0test = X0new[-indices,]\n",
    "R0test = R0new[-indices,]\n",
    "\n",
    "for trial in range(20):\n",
    "    for s in range(20,200,20):\n",
    "        indices = np.random.randint(0, len(X0test), size=s)\n",
    "        cX0 = X0test[indices,]\n",
    "        cR0 = R0test[indices,]\n",
    "        pickle.dump(cX0, open('./data/school/' + 'X0_N2_{N2F}_trial_{trialF}.pkl'.format(N2F=s, trialF=trial), 'wb'))\n",
    "        pickle.dump(cR0, open('./data/school/' + 'R0_N2_{N2F}_trial_{trialF}.pkl'.format(N2F=s, trialF=trial), 'wb'))\n",
    "        "
   ]
  },
  {
   "cell_type": "code",
   "execution_count": null,
   "metadata": {},
   "outputs": [],
   "source": []
  }
 ],
 "metadata": {
  "kernelspec": {
   "display_name": "Python 3",
   "language": "python",
   "name": "python3"
  },
  "language_info": {
   "codemirror_mode": {
    "name": "ipython",
    "version": 3
   },
   "file_extension": ".py",
   "mimetype": "text/x-python",
   "name": "python",
   "nbconvert_exporter": "python",
   "pygments_lexer": "ipython3",
   "version": "3.7.7"
  }
 },
 "nbformat": 4,
 "nbformat_minor": 2
}
